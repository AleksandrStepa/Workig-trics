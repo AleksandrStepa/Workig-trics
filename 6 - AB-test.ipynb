{
 "cells": [
  {
   "cell_type": "code",
   "execution_count": 1,
   "metadata": {},
   "outputs": [],
   "source": [
    "import pandas as pd\n",
    "import numpy as np\n",
    "\n",
    "import pandas_gbq\n",
    "import pydata_google_auth\n",
    "import logging\n",
    "\n",
    "SCOPES = [\n",
    "    'https://www.googleapis.com/auth/cloud-platform'\n",
    "]\n",
    "\n",
    "credentials = pydata_google_auth.get_user_credentials(\n",
    "    SCOPES,\n",
    "    auth_local_webserver=True,\n",
    ")\n",
    "\n",
    "logger = logging.getLogger('pandas_gbq')\n",
    "logger.setLevel(logging.DEBUG)\n",
    "logger.addHandler(logging.StreamHandler())\n",
    "\n",
    "def execute(sql):\n",
    "    res = pandas_gbq.read_gbq(\n",
    "        sql,\n",
    "        project_id='playgendary-bi',\n",
    "        credentials=credentials,\n",
    "    )\n",
    "    return res"
   ]
  },
  {
   "cell_type": "markdown",
   "metadata": {},
   "source": [
    "# AB-тесты: общее"
   ]
  },
  {
   "cell_type": "markdown",
   "metadata": {},
   "source": [
    "<i>При дизайне АБ-теста, стоит рекомендовать продюсеру дизайнить тест с двумя группами: контрольной и тестовой, т.к. поправка на множественную проверку гипотез сильно увеличивает необходимое кол-во человек в группу.</i><br>\n",
    "https://en.wikipedia.org/wiki/Multiple_comparisons_problem"
   ]
  },
  {
   "cell_type": "markdown",
   "metadata": {},
   "source": [
    "## 1. Расчет параметров АБ-теста"
   ]
  },
  {
   "cell_type": "code",
   "execution_count": 2,
   "metadata": {},
   "outputs": [],
   "source": [
    "import scipy as sp\n",
    "from scipy.stats import norm\n",
    "from itertools import product\n",
    "\n",
    "def n(mean, mean_ch, std, a, b=0.8, n1=1, n2=1):\n",
    "    '''\n",
    "    mean – среднее\n",
    "    mean_ch – доля изменения среднего, относительная разница между метриками\n",
    "    std – стандартное отклонение\n",
    "    a – уровень значимости, т.е. вероятность ошибки первого рода\n",
    "    b – мощность, т.е. 1 - вероятность ошибки второго рода, по дефолту закладываем 20% => b=0.8\n",
    "    n1:n2 – пропорция между группами \n",
    "    '''\n",
    "    n = (n1 + n2) / (n1 * n2) * ( ((norm.ppf(1 - a/2) + norm.ppf(b))) * std / (mean_ch * mean) )**2\n",
    "    \n",
    "    return int(n)\n",
    "\n",
    "def num(mean, std, mean_ch, a, b=0.8, n1=1, n2=1): \n",
    "    num_results = [\n",
    "        {\n",
    "            'mean change': m,\n",
    "            'a': a,   \n",
    "            'n': n(mean, m, std, a, b=b, n1=n1, n2=n2)\n",
    "        }\n",
    "        for m, a in product(mean_ch, a)\n",
    "    ]\n",
    "    return pd.DataFrame(num_results).pivot('a', 'mean change', 'n')"
   ]
  },
  {
   "cell_type": "code",
   "execution_count": 3,
   "metadata": {},
   "outputs": [],
   "source": [
    "mean_ch = [.05, .1, .15]\n",
    "a = [.05, .1, .2]"
   ]
  },
  {
   "cell_type": "markdown",
   "metadata": {},
   "source": [
    "### Для примера выгрузим данные из FireBase \"почасового\" ретеншена для HD Android"
   ]
  },
  {
   "cell_type": "code",
   "execution_count": 4,
   "metadata": {},
   "outputs": [],
   "source": [
    "project = 'home-design-749c0.analytics_207534348.events_*'\n",
    "start_install_date = '2019-11-04'\n",
    "end_install_date =  '2019-12-01'"
   ]
  },
  {
   "cell_type": "code",
   "execution_count": 5,
   "metadata": {},
   "outputs": [
    {
     "name": "stderr",
     "output_type": "stream",
     "text": [
      "Requesting query... \n",
      "Query running...\n",
      "Job ID: b7675470-7711-4308-bdf3-03d6d7433050\n",
      "Query done.\n",
      "Processed: 119.4 MB Billed: 120.0 MB\n",
      "Standard price: $0.00 USD\n",
      "\n",
      "Got 30877 rows.\n",
      "\n"
     ]
    }
   ],
   "source": [
    "sql_retention = f'''\n",
    "select\n",
    "    user_id\n",
    "    , day\n",
    "    , ifnull(retention_hours, 0) retention_hours\n",
    "from\n",
    "(\n",
    "      select distinct\n",
    "          day\n",
    "          , geo.country country\n",
    "          , user_pseudo_id user_id\n",
    "          , platform\n",
    "      from\n",
    "          `{project}`\n",
    "      cross join\n",
    "          unnest(generate_array(1, 7)) as day \n",
    "      where    \n",
    "          _table_suffix between replace('{start_install_date}', '-', '') and\n",
    "                                replace('{end_install_date}', '-', '')\n",
    "          and event_name = 'first_open'\n",
    ") i\n",
    "left join\n",
    "(\n",
    "  select distinct\n",
    "      cast(floor((event_timestamp - user_first_touch_timestamp) / (1000000 * 86400)) as int64) day\n",
    "      , user_pseudo_id user_id\n",
    "      , 1 retention_hours\n",
    "  from\n",
    "      `{project}`\n",
    "  where    \n",
    "      _table_suffix between replace('{start_install_date}', '-', '') and\n",
    "                                    replace(cast(date_add('{end_install_date}', interval 4 day) as string),\n",
    "                                            '-', '')\n",
    "      and event_name = 'user_engagement'\n",
    "      and event_timestamp >= user_first_touch_timestamp\n",
    ")\n",
    "using (user_id, day)\n",
    "'''\n",
    "df_retention = execute(sql_retention)"
   ]
  },
  {
   "cell_type": "code",
   "execution_count": 6,
   "metadata": {},
   "outputs": [
    {
     "data": {
      "text/html": [
       "<div>\n",
       "<style scoped>\n",
       "    .dataframe tbody tr th:only-of-type {\n",
       "        vertical-align: middle;\n",
       "    }\n",
       "\n",
       "    .dataframe tbody tr th {\n",
       "        vertical-align: top;\n",
       "    }\n",
       "\n",
       "    .dataframe thead th {\n",
       "        text-align: right;\n",
       "    }\n",
       "</style>\n",
       "<table border=\"1\" class=\"dataframe\">\n",
       "  <thead>\n",
       "    <tr style=\"text-align: right;\">\n",
       "      <th></th>\n",
       "      <th>user_id</th>\n",
       "      <th>day</th>\n",
       "      <th>retention_hours</th>\n",
       "    </tr>\n",
       "  </thead>\n",
       "  <tbody>\n",
       "    <tr>\n",
       "      <th>20753</th>\n",
       "      <td>91b661925e9fcce6029063f4745808e0</td>\n",
       "      <td>5</td>\n",
       "      <td>0</td>\n",
       "    </tr>\n",
       "    <tr>\n",
       "      <th>2985</th>\n",
       "      <td>25a541794aac0b016dc3f1e8a2d49b4a</td>\n",
       "      <td>1</td>\n",
       "      <td>0</td>\n",
       "    </tr>\n",
       "    <tr>\n",
       "      <th>24178</th>\n",
       "      <td>ccc196be23742c3368802c3cc52b9e40</td>\n",
       "      <td>6</td>\n",
       "      <td>0</td>\n",
       "    </tr>\n",
       "  </tbody>\n",
       "</table>\n",
       "</div>"
      ],
      "text/plain": [
       "                                user_id  day  retention_hours\n",
       "20753  91b661925e9fcce6029063f4745808e0    5                0\n",
       "2985   25a541794aac0b016dc3f1e8a2d49b4a    1                0\n",
       "24178  ccc196be23742c3368802c3cc52b9e40    6                0"
      ]
     },
     "execution_count": 6,
     "metadata": {},
     "output_type": "execute_result"
    }
   ],
   "source": [
    "df_retention.sample(3)"
   ]
  },
  {
   "cell_type": "markdown",
   "metadata": {},
   "source": [
    "### Расчитаем параметры АБ-теста"
   ]
  },
  {
   "cell_type": "code",
   "execution_count": 7,
   "metadata": {},
   "outputs": [
    {
     "data": {
      "text/plain": [
       "(0.2189979596463387, 0.07685332124234867)"
      ]
     },
     "execution_count": 7,
     "metadata": {},
     "output_type": "execute_result"
    }
   ],
   "source": [
    "(df_retention[df_retention['day'] == 1].retention_hours.mean(),\n",
    " df_retention[df_retention['day'] == 7].retention_hours.mean())"
   ]
  },
  {
   "cell_type": "code",
   "execution_count": 9,
   "metadata": {},
   "outputs": [
    {
     "data": {
      "text/html": [
       "<div>\n",
       "<style scoped>\n",
       "    .dataframe tbody tr th:only-of-type {\n",
       "        vertical-align: middle;\n",
       "    }\n",
       "\n",
       "    .dataframe tbody tr th {\n",
       "        vertical-align: top;\n",
       "    }\n",
       "\n",
       "    .dataframe thead th {\n",
       "        text-align: right;\n",
       "    }\n",
       "</style>\n",
       "<table border=\"1\" class=\"dataframe\">\n",
       "  <thead>\n",
       "    <tr style=\"text-align: right;\">\n",
       "      <th>mean change</th>\n",
       "      <th>0.05</th>\n",
       "      <th>0.10</th>\n",
       "      <th>0.15</th>\n",
       "    </tr>\n",
       "    <tr>\n",
       "      <th>a</th>\n",
       "      <th></th>\n",
       "      <th></th>\n",
       "      <th></th>\n",
       "    </tr>\n",
       "  </thead>\n",
       "  <tbody>\n",
       "    <tr>\n",
       "      <th>0.05</th>\n",
       "      <td>22397</td>\n",
       "      <td>5599</td>\n",
       "      <td>2488</td>\n",
       "    </tr>\n",
       "    <tr>\n",
       "      <th>0.10</th>\n",
       "      <td>17642</td>\n",
       "      <td>4410</td>\n",
       "      <td>1960</td>\n",
       "    </tr>\n",
       "    <tr>\n",
       "      <th>0.20</th>\n",
       "      <td>12863</td>\n",
       "      <td>3215</td>\n",
       "      <td>1429</td>\n",
       "    </tr>\n",
       "  </tbody>\n",
       "</table>\n",
       "</div>"
      ],
      "text/plain": [
       "mean change   0.05  0.10  0.15\n",
       "a                             \n",
       "0.05         22397  5599  2488\n",
       "0.10         17642  4410  1960\n",
       "0.20         12863  3215  1429"
      ]
     },
     "execution_count": 9,
     "metadata": {},
     "output_type": "execute_result"
    }
   ],
   "source": [
    "## для R1\n",
    "num(df_retention[df_retention['day'] == 1].retention_hours.mean(), \n",
    "    df_retention[df_retention['day'] == 1].retention_hours.std(), mean_ch, a)"
   ]
  },
  {
   "cell_type": "code",
   "execution_count": 10,
   "metadata": {},
   "outputs": [
    {
     "data": {
      "text/html": [
       "<div>\n",
       "<style scoped>\n",
       "    .dataframe tbody tr th:only-of-type {\n",
       "        vertical-align: middle;\n",
       "    }\n",
       "\n",
       "    .dataframe tbody tr th {\n",
       "        vertical-align: top;\n",
       "    }\n",
       "\n",
       "    .dataframe thead th {\n",
       "        text-align: right;\n",
       "    }\n",
       "</style>\n",
       "<table border=\"1\" class=\"dataframe\">\n",
       "  <thead>\n",
       "    <tr style=\"text-align: right;\">\n",
       "      <th>mean change</th>\n",
       "      <th>0.05</th>\n",
       "      <th>0.10</th>\n",
       "      <th>0.15</th>\n",
       "    </tr>\n",
       "    <tr>\n",
       "      <th>a</th>\n",
       "      <th></th>\n",
       "      <th></th>\n",
       "      <th></th>\n",
       "    </tr>\n",
       "  </thead>\n",
       "  <tbody>\n",
       "    <tr>\n",
       "      <th>0.05</th>\n",
       "      <td>75440</td>\n",
       "      <td>18860</td>\n",
       "      <td>8382</td>\n",
       "    </tr>\n",
       "    <tr>\n",
       "      <th>0.10</th>\n",
       "      <td>59424</td>\n",
       "      <td>14856</td>\n",
       "      <td>6602</td>\n",
       "    </tr>\n",
       "    <tr>\n",
       "      <th>0.20</th>\n",
       "      <td>43327</td>\n",
       "      <td>10831</td>\n",
       "      <td>4814</td>\n",
       "    </tr>\n",
       "  </tbody>\n",
       "</table>\n",
       "</div>"
      ],
      "text/plain": [
       "mean change   0.05   0.10  0.15\n",
       "a                              \n",
       "0.05         75440  18860  8382\n",
       "0.10         59424  14856  6602\n",
       "0.20         43327  10831  4814"
      ]
     },
     "execution_count": 10,
     "metadata": {},
     "output_type": "execute_result"
    }
   ],
   "source": [
    "## для R7\n",
    "num(df_retention[df_retention['day'] == 7].retention_hours.mean(), \n",
    "    df_retention[df_retention['day'] == 7].retention_hours.std(), mean_ch, a)"
   ]
  },
  {
   "cell_type": "markdown",
   "metadata": {},
   "source": [
    "Например:\n",
    "- при a = 0.05 и детектируемой относительной разнице в 5% для метрики R7 необходимо 75440 человек в группу\n",
    "- при a = 0.2 и детектируемой относительной разнице в 15% для метрики R1 необходимо 1429 человек в группу"
   ]
  },
  {
   "cell_type": "markdown",
   "metadata": {},
   "source": [
    "<i>Всегда стоит проверять полученные цифры на адекватность, сравнивать с расчетами предыдыдущих тестов. Также можно использовать след. калькуляторы для проверки своих результатов:</i>\n",
    "\n",
    "- https://docs.google.com/spreadsheets/d/1n6D14bVEfNcpH8nFfQNaFGp251p3lQa96loXqF2Uf3Q\n",
    "- https://cxl.com/ab-test-calculator/\n",
    "\n",
    "<i>Если получилось оч. большое кол-во пользователей в группу и ошибки нет, то стоит повторно с продюсером обсудить параметры, возможно избранная метрика слишком требовательна.</i>"
   ]
  },
  {
   "cell_type": "markdown",
   "metadata": {},
   "source": [
    "## 2. Анализ АБ-теста"
   ]
  },
  {
   "cell_type": "markdown",
   "metadata": {},
   "source": [
    "### Для примера выгрузим данные по тесту  Hit the Light Android для рекламного RPI7 и ретеншена\n",
    "*события принадлежности к АБ-группе пользователя может быть реализовано по-разному, в данном случае реализация была через AF*"
   ]
  },
  {
   "cell_type": "code",
   "execution_count": 11,
   "metadata": {},
   "outputs": [],
   "source": [
    "project_ab = 'com.happymagenta.hitlight'\n",
    "start_install_date_ab = '2019-09-27'\n",
    "end_install_date_ab =  '2019-10-10'"
   ]
  },
  {
   "cell_type": "code",
   "execution_count": 12,
   "metadata": {},
   "outputs": [],
   "source": [
    "sql_ab = f'''\n",
    "select\n",
    "    appsflyer_id\n",
    "    , ab_group\n",
    "    , ifnull(rev_ad, 0) rev_ad\n",
    "    , ifnull(r7, 0) r7\n",
    "from\n",
    "(\n",
    "    select\n",
    "        appsflyer_id\n",
    "        , event_value ab_group\n",
    "    from\n",
    "      `playgendary-bi.appsflyer_datalocker_2.inapps_*`\n",
    "    where\n",
    "      _table_suffix between replace('{start_install_date_ab}', '-', '') and\n",
    "                                    replace('{end_install_date_ab}', '-', '')\n",
    "      and app_id = '{project_ab}'\n",
    "      and event_name = 'AB_group'\n",
    ")\n",
    "left join\n",
    "(\n",
    "    select\n",
    "        appsflyerId appsflyer_id\n",
    "        , sum(revenue) rev_ad\n",
    "    from\n",
    "        `playgendary-bi.aggregated_data.daily_ad_revenue` \n",
    "    where \n",
    "        installDate between '{start_install_date_ab}' and '{end_install_date_ab}'\n",
    "        and appId = '{project_ab}'\n",
    "        and date_diff(revenueDate, installDate, day) <= 7\n",
    "    group by\n",
    "        appsflyer_id\n",
    ")\n",
    "using(appsflyer_id)\n",
    "left join\n",
    "(\n",
    "    select distinct\n",
    "        appsflyer_id\n",
    "        , 1 r7\n",
    "    from\n",
    "        `playgendary-bi.appsflyer_datalocker_2.sessions_*`\n",
    "    where \n",
    "        _table_suffix between replace('{start_install_date_ab}', '-', '') and\n",
    "                              replace(cast(date_add('{end_install_date_ab}', interval 8 day) as string), '-', '')\n",
    "        and app_id = '{project_ab}'\n",
    "        and date_diff(date(parse_datetime('%Y-%m-%d %H:%M:%S', event_time)),\n",
    "                      date(parse_datetime('%Y-%m-%d %H:%M:%S', install_time)), day) = 7\n",
    " )\n",
    "using(appsflyer_id)\n",
    "'''"
   ]
  },
  {
   "cell_type": "code",
   "execution_count": 13,
   "metadata": {},
   "outputs": [
    {
     "name": "stderr",
     "output_type": "stream",
     "text": [
      "Requesting query... \n",
      "Query running...\n",
      "Job ID: 8769bf8d-7797-408f-af04-0a5757504b68\n",
      "  Elapsed 7.56 s. Waiting...\n",
      "  Elapsed 9.92 s. Waiting...\n",
      "  Elapsed 12.08 s. Waiting...\n",
      "Query done.\n",
      "Processed: 289.5 GB Billed: 289.5 GB\n",
      "Standard price: $1.41 USD\n",
      "\n",
      "Got 326320 rows.\n",
      "\n",
      "Total time taken 32.84 s.\n",
      "Finished at 2019-12-11 12:23:01.\n"
     ]
    }
   ],
   "source": [
    "df_ab = execute(sql_ab)"
   ]
  },
  {
   "cell_type": "code",
   "execution_count": 14,
   "metadata": {},
   "outputs": [
    {
     "data": {
      "text/html": [
       "<div>\n",
       "<style scoped>\n",
       "    .dataframe tbody tr th:only-of-type {\n",
       "        vertical-align: middle;\n",
       "    }\n",
       "\n",
       "    .dataframe tbody tr th {\n",
       "        vertical-align: top;\n",
       "    }\n",
       "\n",
       "    .dataframe thead th {\n",
       "        text-align: right;\n",
       "    }\n",
       "</style>\n",
       "<table border=\"1\" class=\"dataframe\">\n",
       "  <thead>\n",
       "    <tr style=\"text-align: right;\">\n",
       "      <th></th>\n",
       "      <th>appsflyer_id</th>\n",
       "      <th>ab_group</th>\n",
       "      <th>rev_ad</th>\n",
       "      <th>r7</th>\n",
       "    </tr>\n",
       "  </thead>\n",
       "  <tbody>\n",
       "    <tr>\n",
       "      <th>223038</th>\n",
       "      <td>1570288555196-9150863444262360672</td>\n",
       "      <td>{\"af_param_1\":\"control_sub\"}</td>\n",
       "      <td>0.18779</td>\n",
       "      <td>1</td>\n",
       "    </tr>\n",
       "    <tr>\n",
       "      <th>138859</th>\n",
       "      <td>1570255640914-1685062855802389442</td>\n",
       "      <td>{\"af_param_1\":\"test_sub\"}</td>\n",
       "      <td>0.00397</td>\n",
       "      <td>0</td>\n",
       "    </tr>\n",
       "    <tr>\n",
       "      <th>280647</th>\n",
       "      <td>1570444610266-2991043334730753179</td>\n",
       "      <td>{\"af_param_1\":\"control_sub\"}</td>\n",
       "      <td>0.00005</td>\n",
       "      <td>0</td>\n",
       "    </tr>\n",
       "  </tbody>\n",
       "</table>\n",
       "</div>"
      ],
      "text/plain": [
       "                             appsflyer_id                      ab_group  \\\n",
       "223038  1570288555196-9150863444262360672  {\"af_param_1\":\"control_sub\"}   \n",
       "138859  1570255640914-1685062855802389442     {\"af_param_1\":\"test_sub\"}   \n",
       "280647  1570444610266-2991043334730753179  {\"af_param_1\":\"control_sub\"}   \n",
       "\n",
       "         rev_ad  r7  \n",
       "223038  0.18779   1  \n",
       "138859  0.00397   0  \n",
       "280647  0.00005   0  "
      ]
     },
     "execution_count": 14,
     "metadata": {},
     "output_type": "execute_result"
    }
   ],
   "source": [
    "df_ab.sample(3)"
   ]
  },
  {
   "cell_type": "code",
   "execution_count": 15,
   "metadata": {},
   "outputs": [],
   "source": [
    "#df_ab.to_csv('ab.csv', index=False)"
   ]
  },
  {
   "cell_type": "code",
   "execution_count": 16,
   "metadata": {},
   "outputs": [
    {
     "data": {
      "text/plain": [
       "ab_group\n",
       "{\"af_param_1\":\"control_sub\"}    162639\n",
       "{\"af_param_1\":\"test_sub\"}       163681\n",
       "Name: appsflyer_id, dtype: int64"
      ]
     },
     "execution_count": 16,
     "metadata": {},
     "output_type": "execute_result"
    }
   ],
   "source": [
    "df_ab.groupby('ab_group').appsflyer_id.count()"
   ]
  },
  {
   "cell_type": "markdown",
   "metadata": {},
   "source": [
    "*Убеждаемся, что в тесте нет пересечений пользователей между группами, убираем дубликаты событий<br>\n",
    "Иногда, в целом по событиям, стоит дополнительно проверить правильно ли работает тест, приходят ли тестовой группе события, которые должны приходить и т.д.*"
   ]
  },
  {
   "cell_type": "code",
   "execution_count": 17,
   "metadata": {},
   "outputs": [],
   "source": [
    "df_ab.drop_duplicates(subset=['appsflyer_id', 'ab_group'], inplace=True)"
   ]
  },
  {
   "cell_type": "markdown",
   "metadata": {},
   "source": [
    "## Оценка метрик и различий между группами"
   ]
  },
  {
   "cell_type": "code",
   "execution_count": 18,
   "metadata": {},
   "outputs": [
    {
     "data": {
      "text/html": [
       "<div>\n",
       "<style scoped>\n",
       "    .dataframe tbody tr th:only-of-type {\n",
       "        vertical-align: middle;\n",
       "    }\n",
       "\n",
       "    .dataframe tbody tr th {\n",
       "        vertical-align: top;\n",
       "    }\n",
       "\n",
       "    .dataframe thead th {\n",
       "        text-align: right;\n",
       "    }\n",
       "</style>\n",
       "<table border=\"1\" class=\"dataframe\">\n",
       "  <thead>\n",
       "    <tr style=\"text-align: right;\">\n",
       "      <th></th>\n",
       "      <th>rev_ad</th>\n",
       "      <th>r7</th>\n",
       "    </tr>\n",
       "    <tr>\n",
       "      <th>ab_group</th>\n",
       "      <th></th>\n",
       "      <th></th>\n",
       "    </tr>\n",
       "  </thead>\n",
       "  <tbody>\n",
       "    <tr>\n",
       "      <th>{\"af_param_1\":\"control_sub\"}</th>\n",
       "      <td>0.041503</td>\n",
       "      <td>0.026621</td>\n",
       "    </tr>\n",
       "    <tr>\n",
       "      <th>{\"af_param_1\":\"test_sub\"}</th>\n",
       "      <td>0.042715</td>\n",
       "      <td>0.027290</td>\n",
       "    </tr>\n",
       "  </tbody>\n",
       "</table>\n",
       "</div>"
      ],
      "text/plain": [
       "                                rev_ad        r7\n",
       "ab_group                                        \n",
       "{\"af_param_1\":\"control_sub\"}  0.041503  0.026621\n",
       "{\"af_param_1\":\"test_sub\"}     0.042715  0.027290"
      ]
     },
     "execution_count": 18,
     "metadata": {},
     "output_type": "execute_result"
    }
   ],
   "source": [
    "df_ab.groupby('ab_group')['rev_ad', 'r7'].mean()"
   ]
  },
  {
   "cell_type": "code",
   "execution_count": 19,
   "metadata": {},
   "outputs": [
    {
     "data": {
      "text/plain": [
       "-0.029217202023584576"
      ]
     },
     "execution_count": 19,
     "metadata": {},
     "output_type": "execute_result"
    }
   ],
   "source": [
    "#относительная разница между ad RPI7 тестовой и контрольной группами\n",
    "1 - df_ab.groupby('ab_group')['rev_ad'].mean()[1] / df_ab.groupby('ab_group')['rev_ad'].mean()[0]"
   ]
  },
  {
   "cell_type": "code",
   "execution_count": 20,
   "metadata": {},
   "outputs": [
    {
     "data": {
      "text/plain": [
       "-0.025135095442821553"
      ]
     },
     "execution_count": 20,
     "metadata": {},
     "output_type": "execute_result"
    }
   ],
   "source": [
    "#относительная разница между R7 тестовой и контрольной группами\n",
    "1 - df_ab.groupby('ab_group')['r7'].mean()[1] / df_ab.groupby('ab_group')['r7'].mean()[0]"
   ]
  },
  {
   "cell_type": "code",
   "execution_count": 21,
   "metadata": {},
   "outputs": [
    {
     "data": {
      "text/plain": [
       "Ttest_indResult(statistic=2.061604341763111, pvalue=0.03924621786450064)"
      ]
     },
     "execution_count": 21,
     "metadata": {},
     "output_type": "execute_result"
    }
   ],
   "source": [
    "sp.stats.ttest_ind(df_ab[df_ab['ab_group'].str.contains('test')]['rev_ad'],\n",
    "                   df_ab[df_ab['ab_group'].str.contains('control')]['rev_ad'], equal_var=False)"
   ]
  },
  {
   "cell_type": "markdown",
   "metadata": {},
   "source": [
    "### Сравниваем полученное p_value с тем, что было заложено при расчете параметров АБ-теста, в данном тесте 0.05"
   ]
  },
  {
   "cell_type": "markdown",
   "metadata": {},
   "source": [
    "*p_value = 0.04 => мы можем отклонить нулевую гипотезу о равенстве средних контрольной и тестовой групп. т.е. делаем вывод о том, что разница между группами статистически значима*"
   ]
  },
  {
   "cell_type": "code",
   "execution_count": 22,
   "metadata": {},
   "outputs": [
    {
     "data": {
      "text/plain": [
       "Ttest_indResult(statistic=1.1799814883945832, pvalue=0.2380084378875563)"
      ]
     },
     "execution_count": 22,
     "metadata": {},
     "output_type": "execute_result"
    }
   ],
   "source": [
    "sp.stats.ttest_ind(df_ab[df_ab['ab_group'].str.contains('test')]['r7'],\n",
    "                   df_ab[df_ab['ab_group'].str.contains('control')]['r7'], equal_var=False)"
   ]
  },
  {
   "cell_type": "markdown",
   "metadata": {},
   "source": [
    "*p_value = 0.24 => мы не можем отклонить нулевую гипотезу о равенстве средних контрольной и тестовой групп. т.е. делаем вывод о том, что разница между группами статистически незначима*"
   ]
  },
  {
   "cell_type": "markdown",
   "metadata": {},
   "source": [
    "## Вывод по АБ-тесту"
   ]
  },
  {
   "cell_type": "markdown",
   "metadata": {},
   "source": [
    "- Retention D7 в тестовой группе **не значимо** выше, чем в контрольной на 2,5%\n",
    "- ad RPI7 в тестовой группу **значимо** выше, чем в контрольной на 3%\n",
    "\n",
    "Следовательно применять конфигурацию тестовой группы можно."
   ]
  },
  {
   "cell_type": "markdown",
   "metadata": {},
   "source": [
    "Команда захочет увидеть этот эффект (увеличение RPI на 3%), когда выкатит это изменение на всех игроков.<br>\n",
    "**Поэтому важно показывать доверительный интервал для разницы средних между группами.**"
   ]
  },
  {
   "cell_type": "code",
   "execution_count": 23,
   "metadata": {},
   "outputs": [],
   "source": [
    "from math import sqrt\n",
    "\n",
    "def confidence_interval_for_diff(data1, data2, a=.05):\n",
    "    n1 = len(data1)\n",
    "    n2 = len(data2)\n",
    "    df = n1 + n2 - 2\n",
    "    std1 = data1.std()\n",
    "    std2 = data2.std()\n",
    "    std_n1n2 = sqrt(((n1 - 1)*std1**2 + (n2 - 1)*std2**2)/df)\n",
    "    diff_mean = data1.mean() - data2.mean()\n",
    "    margin_of_error = sp.stats.t.ppf(1 - a/2, df) * std_n1n2 * sqrt(1/n1 + 1/n2)\n",
    "    \n",
    "    return margin_of_error"
   ]
  },
  {
   "cell_type": "code",
   "execution_count": 24,
   "metadata": {},
   "outputs": [
    {
     "data": {
      "text/plain": [
       "2.7785841452643885"
      ]
     },
     "execution_count": 24,
     "metadata": {},
     "output_type": "execute_result"
    }
   ],
   "source": [
    "100 * (confidence_interval_for_diff(df_ab[df_ab['ab_group'].str.contains('control')]['rev_ad'], \n",
    "                            df_ab[df_ab['ab_group'].str.contains('test')]['rev_ad']) /\\\n",
    "        df_ab[df_ab['ab_group'].str.contains('control')]['rev_ad'].mean() )"
   ]
  },
  {
   "cell_type": "markdown",
   "metadata": {},
   "source": [
    "*Т.е. по итогу на проде мы можем увидеть эффект по увеличению ad RPI7 как 3.0±2.8%, т.е. от 0.02% до 5.8%.*"
   ]
  },
  {
   "cell_type": "markdown",
   "metadata": {},
   "source": [
    "### О чем еще стоит знать"
   ]
  },
  {
   "cell_type": "markdown",
   "metadata": {},
   "source": [
    "1. **Иногда очень важно смотреть на динамику (не по датам, а по мере накопления дней жизни у когорты) определенных метрик.**\n",
    "<br>Например, если мы задизайнили фичу, которая дает нам буст в первые дни жизни игроков по доходу, однако снижает их ретенш.\n",
    "Этот эффект от изначального буста у игроков тестовой группы может начать проигровать последовательному доходу \n",
    "у игроков из контрольной группы за счет тех, кто не отвалился и продолжил играть. Таким образом, иногда стоит смотреть за метриками более поздних дней, сделав предварительный вывод и сообщив команде о том, что для окончательных выводов необходимо дать пользователям \"пожить\" еще.\n",
    "2. **Понятие доверительный интервал для продюсера**\n",
    "<br>С точки зрения статистики p-value – это не вероятность того, что одна группу лучше другой. Доверительные интервалы не пересекаются – можно очень грубо интерпретровать как, мы уверены в том, что одна группу лучше другой."
   ]
  },
  {
   "cell_type": "code",
   "execution_count": null,
   "metadata": {},
   "outputs": [],
   "source": []
  }
 ],
 "metadata": {
  "kernelspec": {
   "display_name": "Python 3",
   "language": "python",
   "name": "python3"
  },
  "language_info": {
   "codemirror_mode": {
    "name": "ipython",
    "version": 3
   },
   "file_extension": ".py",
   "mimetype": "text/x-python",
   "name": "python",
   "nbconvert_exporter": "python",
   "pygments_lexer": "ipython3",
   "version": "3.7.3"
  }
 },
 "nbformat": 4,
 "nbformat_minor": 2
}
